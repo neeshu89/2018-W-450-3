{
 "cells": [
  {
   "cell_type": "code",
   "execution_count": 1,
   "metadata": {},
   "outputs": [],
   "source": [
    "from pymongo import MongoClient\n",
    "\n",
    "%matplotlib inline\n",
    "\n",
    "mongo_client = MongoClient('this_mongo')\n",
    "database_reference = mongo_client.twitter"
   ]
  },
  {
   "cell_type": "code",
   "execution_count": 2,
   "metadata": {},
   "outputs": [
    {
     "data": {
      "text/plain": [
       "['vineland_test_group', 'tweets']"
      ]
     },
     "execution_count": 2,
     "metadata": {},
     "output_type": "execute_result"
    }
   ],
   "source": [
    "database_reference.collection_names()"
   ]
  },
  {
   "cell_type": "code",
   "execution_count": 3,
   "metadata": {},
   "outputs": [],
   "source": [
    "collection_reference = database_reference.vineland_test_group"
   ]
  },
  {
   "cell_type": "code",
   "execution_count": 4,
   "metadata": {},
   "outputs": [
    {
     "data": {
      "text/plain": [
       "10015"
      ]
     },
     "execution_count": 4,
     "metadata": {},
     "output_type": "execute_result"
    }
   ],
   "source": [
    "collection_reference.count()"
   ]
  },
  {
   "cell_type": "markdown",
   "metadata": {},
   "source": [
    "## The Aggregation Pipeline\n",
    "\n",
    "A call to the aggregation framework defines a pipeline (figure 6.1), the **aggregation pipeline**, where the output from each step in the pipeline provides input to the next step. Each step executes a single operation on the input documents to transform the input and generate output documents."
   ]
  },
  {
   "cell_type": "markdown",
   "metadata": {},
   "source": [
    "![](https://www.evernote.com/l/AAGxerRxKLZNFrjqxlYK2HPz1R11tr95FFkB/image.png)"
   ]
  },
  {
   "cell_type": "markdown",
   "metadata": {},
   "source": [
    "### Useful Aggregation Pipeline Operations"
   ]
  },
  {
   "cell_type": "markdown",
   "metadata": {},
   "source": [
    "- `$project` // Specify fields to be placed in the output document.\n",
    "- `$match` // Select documents to be processed, similar to find().\n",
    "- `$limit` // Limit the number of documents to be passed to the next step.\n",
    "- `$skip` // Skip a specified number of documents.\n",
    "- `$unwind` // Expand an array, generating one output document for each array entry.\n",
    "- `$group` // Group documents by a specified key.\n",
    "- `$sort` // Sort documents.\n",
    "- `$geoNear` // Select documents near a geospatial location.\n",
    "- `$out` // Write the results of the pipeline to a collection (new in v2.6).\n",
    "- `$redact` // Control access to certain data (new in v2.6)."
   ]
  },
  {
   "cell_type": "code",
   "execution_count": 5,
   "metadata": {},
   "outputs": [],
   "source": [
    "PROJECT = \"$project\"\n",
    "MATCH = \"$match\"\n",
    "LIMIT = \"$limit\"\n",
    "UNWIND = \"$unwind\"\n",
    "GROUP = \"$group\"\n",
    "SORT = \"$sort\"\n",
    "COUNT = \"$count\""
   ]
  },
  {
   "cell_type": "code",
   "execution_count": 16,
   "metadata": {},
   "outputs": [],
   "source": [
    "test_group = database_reference.vineland_test_group"
   ]
  },
  {
   "cell_type": "code",
   "execution_count": 17,
   "metadata": {},
   "outputs": [],
   "source": [
    "cur = test_group.aggregate([\n",
    "    { MATCH : { \"geo\" : { \"$ne\" : None }}},\n",
    "    { COUNT : \"geo\"}\n",
    "])"
   ]
  },
  {
   "cell_type": "code",
   "execution_count": 18,
   "metadata": {},
   "outputs": [
    {
     "data": {
      "text/plain": [
       "{'geo': 985}"
      ]
     },
     "execution_count": 18,
     "metadata": {},
     "output_type": "execute_result"
    }
   ],
   "source": [
    "next(cur)"
   ]
  },
  {
   "cell_type": "code",
   "execution_count": 19,
   "metadata": {},
   "outputs": [],
   "source": [
    "match_non_null_geo = { MATCH : { \"geo\" : { \"$ne\" : None }}}\n",
    "count_geo = { COUNT : \"geo\"}\n",
    "\n",
    "dag_count_non_null_geo = [\n",
    "    match_non_null_geo,\n",
    "    count_geo\n",
    "]"
   ]
  },
  {
   "cell_type": "code",
   "execution_count": 20,
   "metadata": {},
   "outputs": [
    {
     "data": {
      "text/plain": [
       "{'geo': 985}"
      ]
     },
     "execution_count": 20,
     "metadata": {},
     "output_type": "execute_result"
    }
   ],
   "source": [
    "next(test_group.aggregate(dag_count_non_null_geo))"
   ]
  },
  {
   "cell_type": "markdown",
   "metadata": {},
   "source": [
    "### Group Template\n",
    "\n",
    "    { $group: { _id: <expression>, <field1>: { <accumulator1> : <expression1> }, ... } }\n",
    "    \n",
    "#### Accumulators\n",
    "\n",
    "- `$sum`\n",
    "- `$avg`\n",
    "- `$first`\n",
    "- `$last`\n",
    "- `$max`\n",
    "- `$min`\n",
    "- `$stdDevPop`\n",
    "- `$stdDevSamp`"
   ]
  },
  {
   "cell_type": "code",
   "execution_count": 21,
   "metadata": {},
   "outputs": [],
   "source": [
    "greater_than_10 = { \"$gt\" : 10}\n",
    "sum_1 = { \"$sum\" : 1 }\n",
    "\n",
    "def group_and_count(key):\n",
    "    return { GROUP : {\n",
    "                 \"_id\" : key,\n",
    "                 \"count\" : sum_1\n",
    "                }\n",
    "           }\n",
    "\n",
    "match_count_gt = { MATCH : { \"count\" : greater_than_10 } }\n",
    "\n",
    "sort_by_count = { SORT : {\"count\" : -1}}\n",
    "\n",
    "def limit(val):\n",
    "    return { LIMIT : val }"
   ]
  },
  {
   "cell_type": "code",
   "execution_count": 22,
   "metadata": {},
   "outputs": [
    {
     "data": {
      "text/plain": [
       "[{'_id': 'en', 'count': 8812},\n",
       " {'_id': 'und', 'count': 845},\n",
       " {'_id': 'es', 'count': 81},\n",
       " {'_id': 'tl', 'count': 49},\n",
       " {'_id': 'ht', 'count': 28},\n",
       " {'_id': 'in', 'count': 21},\n",
       " {'_id': 'pt', 'count': 20},\n",
       " {'_id': 'fr', 'count': 19},\n",
       " {'_id': 'tr', 'count': 16},\n",
       " {'_id': 'nl', 'count': 12}]"
      ]
     },
     "execution_count": 22,
     "metadata": {},
     "output_type": "execute_result"
    }
   ],
   "source": [
    "list(test_group.aggregate(\n",
    "    [\n",
    "        group_and_count('$lang'),\n",
    "        match_count_gt, \n",
    "        sort_by_count,\n",
    "        limit(10)\n",
    "    ]\n",
    "))\n"
   ]
  },
  {
   "cell_type": "code",
   "execution_count": 23,
   "metadata": {
    "scrolled": false
   },
   "outputs": [
    {
     "data": {
      "text/plain": [
       "[{'text': 'job'},\n",
       " {'text': 'Roanoke'},\n",
       " {'text': 'Sales'},\n",
       " {'text': 'Hiring'},\n",
       " {'text': 'CareerArc'},\n",
       " {'text': 'ImpeachTrump'},\n",
       " {'text': 'Resist'},\n",
       " {'text': 'SuperBowl'},\n",
       " {'text': 'ImWithKap'},\n",
       " {'text': 'StopPoliceBrutality'}]"
      ]
     },
     "execution_count": 23,
     "metadata": {},
     "output_type": "execute_result"
    }
   ],
   "source": [
    "not_an_empty_array = { \"$ne\" : [] }\n",
    "match_non_empty_hashtag_arrays = { MATCH : { \"entities.hashtags\" : not_an_empty_array}}\n",
    "project_to_text_only = { PROJECT : { \"text\" : \"$entities.hashtags.text\", \"_id\" :0 }}\n",
    "unwind_text = { UNWIND : \"$text\" }\n",
    "\n",
    "list(test_group.aggregate(\n",
    "    [\n",
    "        match_non_empty_hashtag_arrays,\n",
    "        project_to_text_only,\n",
    "        unwind_text,\n",
    "        limit(10)\n",
    "    ]\n",
    "))\n"
   ]
  },
  {
   "cell_type": "code",
   "execution_count": 24,
   "metadata": {},
   "outputs": [
    {
     "data": {
      "text/plain": [
       "[{'_id': 'job', 'count': 269},\n",
       " {'_id': 'CareerArc', 'count': 215},\n",
       " {'_id': 'Hiring', 'count': 199},\n",
       " {'_id': 'hiring', 'count': 119},\n",
       " {'_id': 'Job', 'count': 71},\n",
       " {'_id': 'Jobs', 'count': 71},\n",
       " {'_id': 'SuperBowl', 'count': 45},\n",
       " {'_id': 'Wilmington', 'count': 41},\n",
       " {'_id': 'ImWithKap', 'count': 33},\n",
       " {'_id': 'BoycottSuperBowlSponsors', 'count': 31}]"
      ]
     },
     "execution_count": 24,
     "metadata": {},
     "output_type": "execute_result"
    }
   ],
   "source": [
    "list(test_group.aggregate(\n",
    "    [\n",
    "        match_non_empty_hashtag_arrays,\n",
    "        project_to_text_only,\n",
    "        unwind_text,\n",
    "        group_and_count('$text'),\n",
    "        match_count_gt, \n",
    "        sort_by_count,\n",
    "        limit(10)\n",
    "    ]\n",
    "))"
   ]
  },
  {
   "cell_type": "code",
   "execution_count": 25,
   "metadata": {},
   "outputs": [
    {
     "data": {
      "text/plain": [
       "[{'_id': 'superbowl', 'count': 51},\n",
       " {'_id': 'flyeaglesfly', 'count': 46},\n",
       " {'_id': 'wilmington', 'count': 41},\n",
       " {'_id': 'imwithkap', 'count': 33},\n",
       " {'_id': 'boycottsuperbowl2018', 'count': 31},\n",
       " {'_id': 'takeaknee', 'count': 31},\n",
       " {'_id': 'stoppolicebrutality', 'count': 31},\n",
       " {'_id': 'boycottsuperbowlsponsors', 'count': 31},\n",
       " {'_id': 'eagles', 'count': 24},\n",
       " {'_id': 'columbia', 'count': 24},\n",
       " {'_id': 'superbowllii', 'count': 23},\n",
       " {'_id': 'retail', 'count': 22},\n",
       " {'_id': 'healthcare', 'count': 19},\n",
       " {'_id': 'vineland', 'count': 16},\n",
       " {'_id': 'hospitality', 'count': 16},\n",
       " {'_id': 'bristol', 'count': 16},\n",
       " {'_id': 'labor', 'count': 15},\n",
       " {'_id': 'it', 'count': 14},\n",
       " {'_id': 'vawx', 'count': 14},\n",
       " {'_id': 'engineering', 'count': 14},\n",
       " {'_id': 'swvawx', 'count': 14},\n",
       " {'_id': 'stillmissinghotch', 'count': 13},\n",
       " {'_id': 'veterans', 'count': 13},\n",
       " {'_id': 'nohotchnowatch', 'count': 13},\n",
       " {'_id': 'sales', 'count': 13},\n",
       " {'_id': 'nursing', 'count': 12},\n",
       " {'_id': 'rn', 'count': 11},\n",
       " {'_id': 'wvwx', 'count': 11},\n",
       " {'_id': 'realestate', 'count': 11}]"
      ]
     },
     "execution_count": 25,
     "metadata": {},
     "output_type": "execute_result"
    }
   ],
   "source": [
    "job_hashtags = ['job', 'jobs', 'hiring', 'careerarc']\n",
    "location_hashtags = ['california', 'losangeles', 'la', 'santamonica', 'glendale', 'paloalto']\n",
    "project_to_lower = { PROJECT : { \"text\" : {\"$toLower\" : \"$text\"} } }\n",
    "match_not_in_bad = { MATCH : { \"_id\" : { \"$nin\" : job_hashtags + location_hashtags}}}\n",
    "\n",
    "list(test_group.aggregate(\n",
    "    [\n",
    "        match_non_empty_hashtag_arrays,\n",
    "        project_to_text_only,\n",
    "        unwind_text,\n",
    "        project_to_lower,\n",
    "        group_and_count('$text'),\n",
    "        match_not_in_bad,\n",
    "        match_count_gt, \n",
    "        sort_by_count,\n",
    "        limit(50)\n",
    "    ]\n",
    "))"
   ]
  },
  {
   "cell_type": "code",
   "execution_count": null,
   "metadata": {},
   "outputs": [],
   "source": []
  },
  {
   "cell_type": "code",
   "execution_count": null,
   "metadata": {},
   "outputs": [],
   "source": []
  }
 ],
 "metadata": {
  "kernelspec": {
   "display_name": "Python 3",
   "language": "python",
   "name": "python3"
  },
  "language_info": {
   "codemirror_mode": {
    "name": "ipython",
    "version": 3
   },
   "file_extension": ".py",
   "mimetype": "text/x-python",
   "name": "python",
   "nbconvert_exporter": "python",
   "pygments_lexer": "ipython3",
   "version": "3.6.3"
  }
 },
 "nbformat": 4,
 "nbformat_minor": 2
}
