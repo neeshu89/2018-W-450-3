{
 "cells": [
  {
   "cell_type": "code",
   "execution_count": null,
   "metadata": {},
   "outputs": [
    {
     "name": "stdout",
     "output_type": "stream",
     "text": [
      "Requirement already satisfied: twitter in /opt/conda/lib/python3.6/site-packages\n",
      "Requirement already satisfied: mongo in /opt/conda/lib/python3.6/site-packages\n",
      "Requirement already satisfied: pymongo in /opt/conda/lib/python3.6/site-packages (from mongo)\n",
      "Current Count  9:30\t: 206392\n",
      "Current Count 10:0\t: 206623\n",
      "Current Count 11:0\t: 206868\n",
      "Current Count  0:0\t: 207055\n",
      "Current Count  1:0\t: 207228\n",
      "Current Count  2:0\t: 207335\n",
      "Current Count  3:0\t: 207515\n",
      "Current Count  4:0\t: 207895\n",
      "Current Count  5:0\t: 208535\n",
      "Current Count  6:0\t: 209355\n",
      "Current Count  7:0\t: 210222\n",
      "Current Count  8:0\t: 211097\n",
      "Current Count  9:0\t: 212077\n",
      "Current Count 10:0\t: 213030\n",
      "Current Count 11:0\t: 213808\n",
      "Current Count  0:0\t: 214761\n",
      "Current Count  1:0\t: 215641\n",
      "Current Count  2:0\t: 216584\n",
      "Current Count  3:0\t: 217495\n"
     ]
    }
   ],
   "source": [
    "!pip install twitter\n",
    "!pip install mongo\n",
    "from lib.twitter_streamer import Twitterator\n",
    "from lib.utility import get_credentials\n",
    "\n",
    "#importing classes from libraries in lib folder\n",
    "\n",
    "if __name__ == \"__main__\":\n",
    "    # checking that this module is the main module, otherwise, abort and go back\n",
    "\n",
    "    try:\n",
    "        credentials = get_credentials()\n",
    "\n",
    "        vineland_bbox = \"-75.2565792933,39.3133877994,-74.8130062952,39.5808909262\"\n",
    "\n",
    "        this_twitterator = Twitterator(credentials, vineland_bbox)\n",
    "        # setting the location and logging in\n",
    "        # define westwood_bbox as the coordinates\n",
    "        # inputs the attributes/parameters for the local Twitterator function\n",
    "        \n",
    "        this_twitterator.collect_tweets()\n",
    "        # calls on the collect_tweets function using the local twitterator (which has the local attributes)\n",
    "\n",
    "    except FileNotFoundError:\n",
    "        print(\"Did you forget to create you credentials.yml file in the data directory?\")\n",
    "        # except function only gets called in the case of an error/exception\n",
    " \n",
    "        # if error with file for get_credentials - serve up error"
   ]
  },
  {
   "cell_type": "code",
   "execution_count": null,
   "metadata": {},
   "outputs": [],
   "source": []
  }
 ],
 "metadata": {
  "kernelspec": {
   "display_name": "Python 3",
   "language": "python",
   "name": "python3"
  },
  "language_info": {
   "codemirror_mode": {
    "name": "ipython",
    "version": 3
   },
   "file_extension": ".py",
   "mimetype": "text/x-python",
   "name": "python",
   "nbconvert_exporter": "python",
   "pygments_lexer": "ipython3",
   "version": "3.6.3"
  }
 },
 "nbformat": 4,
 "nbformat_minor": 2
}
