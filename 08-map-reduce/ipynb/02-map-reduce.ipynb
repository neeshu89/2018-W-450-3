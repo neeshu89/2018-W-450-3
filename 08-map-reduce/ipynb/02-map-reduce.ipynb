{
 "cells": [
  {
   "cell_type": "code",
   "execution_count": 1,
   "metadata": {
    "collapsed": true
   },
   "outputs": [],
   "source": [
    "def tokenize(document):\n",
    "    return (document\n",
    "            .replace(',','')\n",
    "            .replace('.','')\n",
    "            .split())"
   ]
  },
  {
   "cell_type": "code",
   "execution_count": 2,
   "metadata": {
    "collapsed": true
   },
   "outputs": [],
   "source": [
    "documents = [\n",
    "    \"This paper presents a kernel-based principal component analysis, kernel PCA, to extract critical features for improving the performance of a stock trading model. \",\n",
    "    \"The feature extraction method is one of the techniques to solve dimensionality reduction problems.\",\n",
    "    \"The kernel PCA is a feature extraction approach which has been applied to data transformation from known variables to capture critical information.\",\n",
    "    \"The kernel PCA is a kernel-based data map- ping tool that has characteristics of both principal component analysis and non-linear mapping.\",\n",
    "    \"The feature selection method is another DRP technique that selects only a small set of features from known variables, but these features still indicate possible collinearity problems that fail to reflect clear information.\",\n",
    "    \"However, most feature extraction methods use a variable mapping application to eliminate noisy and collinear variables. In this research, we use the kernel-PCA method in a stock trading model to transform stock technical indices which allows features of smaller dimension to be formed.\",\n",
    "    \"The kernel-PCA method has been applied to various stocks and sliding window testing methods using both half-year and 1-year testing strategies. The experimental results show that the proposed method generates more profits than other DRP methods on the America stock market.\",\n",
    "    \"This stock trading model is very practical for real-world application, and it can be implemented in a real-time environment.\"\n",
    "]"
   ]
  },
  {
   "cell_type": "code",
   "execution_count": 3,
   "metadata": {
    "collapsed": true
   },
   "outputs": [],
   "source": [
    "tokenized_documents = [tokenize(document) for document in documents]"
   ]
  },
  {
   "cell_type": "code",
   "execution_count": 11,
   "metadata": {
    "collapsed": true
   },
   "outputs": [
    {
     "data": {
      "text/plain": [
       "['This', 'paper', 'presents', 'a', 'kernel-based']"
      ]
     },
     "execution_count": 11,
     "metadata": {},
     "output_type": "execute_result"
    }
   ],
   "source": [
    "tokenized_documents[0][:5]"
   ]
  },
  {
   "cell_type": "code",
   "execution_count": 13,
   "metadata": {
    "collapsed": true
   },
   "outputs": [],
   "source": [
    "def wc_mapper(document):\n",
    "    for word in tokenize(document):\n",
    "        yield (word, 1)"
   ]
  },
  {
   "cell_type": "code",
   "execution_count": 14,
   "metadata": {
    "collapsed": true
   },
   "outputs": [],
   "source": [
    "def wc_reducer(word, counts):\n",
    "    yield (word, sum(counts))"
   ]
  },
  {
   "cell_type": "code",
   "execution_count": 30,
   "metadata": {
    "collapsed": true
   },
   "outputs": [],
   "source": [
    "from collections import defaultdict\n",
    "def word_count(documents):\n",
    "    \n",
    "    collector = defaultdict(list)\n",
    "    \n",
    "    for document in documents:\n",
    "        for word, count in wc_mapper(document):\n",
    "            collector[word].append(count)\n",
    "            \n",
    "  #  return collector\n",
    "    return [output for word, counts in collector.items()\n",
    "            for output in wc_reducer(word, counts)]"
   ]
  },
  {
   "cell_type": "code",
   "execution_count": 31,
   "metadata": {
    "collapsed": true
   },
   "outputs": [],
   "source": [
    "documents_test = [\"data science\", \"big data\", \"science fiction\"]\n"
   ]
  },
  {
   "cell_type": "code",
   "execution_count": 32,
   "metadata": {},
   "outputs": [
    {
     "data": {
      "text/plain": [
       "[('data', 2), ('science', 2), ('big', 1), ('fiction', 1)]"
      ]
     },
     "execution_count": 32,
     "metadata": {},
     "output_type": "execute_result"
    }
   ],
   "source": [
    "word_count(documents_test)"
   ]
  },
  {
   "cell_type": "code",
   "execution_count": 34,
   "metadata": {
    "collapsed": true
   },
   "outputs": [],
   "source": [
    "map_0 = wc_mapper(documents_test[0])"
   ]
  },
  {
   "cell_type": "code",
   "execution_count": 36,
   "metadata": {},
   "outputs": [
    {
     "data": {
      "text/plain": [
       "generator"
      ]
     },
     "execution_count": 36,
     "metadata": {},
     "output_type": "execute_result"
    }
   ],
   "source": [
    "type(map_0)"
   ]
  },
  {
   "cell_type": "code",
   "execution_count": 37,
   "metadata": {
    "collapsed": true
   },
   "outputs": [
    {
     "data": {
      "text/plain": [
       "('data', 1)"
      ]
     },
     "execution_count": 37,
     "metadata": {},
     "output_type": "execute_result"
    }
   ],
   "source": [
    "next(map_0)"
   ]
  },
  {
   "cell_type": "code",
   "execution_count": 38,
   "metadata": {
    "collapsed": true
   },
   "outputs": [
    {
     "data": {
      "text/plain": [
       "('science', 1)"
      ]
     },
     "execution_count": 38,
     "metadata": {},
     "output_type": "execute_result"
    }
   ],
   "source": [
    "next(map_0)"
   ]
  },
  {
   "cell_type": "code",
   "execution_count": 39,
   "metadata": {
    "collapsed": true
   },
   "outputs": [],
   "source": [
    "from collections import defaultdict"
   ]
  },
  {
   "cell_type": "code",
   "execution_count": 40,
   "metadata": {
    "collapsed": true
   },
   "outputs": [],
   "source": [
    "collector = defaultdict(list)\n",
    "for document in documents_test:\n",
    "    for word, count in wc_mapper(document):\n",
    "        collector[word].append(count)"
   ]
  },
  {
   "cell_type": "code",
   "execution_count": 41,
   "metadata": {
    "collapsed": true
   },
   "outputs": [
    {
     "data": {
      "text/plain": [
       "defaultdict(list,\n",
       "            {'big': [1], 'data': [1, 1], 'fiction': [1], 'science': [1, 1]})"
      ]
     },
     "execution_count": 41,
     "metadata": {},
     "output_type": "execute_result"
    }
   ],
   "source": [
    "collector"
   ]
  },
  {
   "cell_type": "code",
   "execution_count": 42,
   "metadata": {
    "collapsed": true
   },
   "outputs": [
    {
     "data": {
      "text/plain": [
       "[('data', 2), ('science', 2), ('big', 1), ('fiction', 1)]"
      ]
     },
     "execution_count": 42,
     "metadata": {},
     "output_type": "execute_result"
    }
   ],
   "source": [
    "[output for word, counts in collector.items()\n",
    "            for output in wc_reducer(word, counts)]"
   ]
  },
  {
   "cell_type": "code",
   "execution_count": 43,
   "metadata": {
    "collapsed": true
   },
   "outputs": [],
   "source": [
    "def map_reduce(inputs, mapper, reducer):\n",
    "    collector = defaultdict(list)\n",
    "    \n",
    "    # can be rewritten as a parfor\n",
    "    for input in inputs:\n",
    "        for key, value in mapper(input):\n",
    "            collector[key].append(value)\n",
    "    \n",
    "    # can be rewritten as a parfor\n",
    "    return [output\n",
    "            for key, values in collector.items()\n",
    "            for output in reducer(key, values)]"
   ]
  },
  {
   "cell_type": "code",
   "execution_count": 44,
   "metadata": {
    "collapsed": true
   },
   "outputs": [
    {
     "data": {
      "text/plain": [
       "[('This', 2),\n",
       " ('paper', 1),\n",
       " ('presents', 1),\n",
       " ('a', 8),\n",
       " ('kernel-based', 2),\n",
       " ('principal', 2),\n",
       " ('component', 2),\n",
       " ('analysis', 2),\n",
       " ('kernel', 3),\n",
       " ('PCA', 3),\n",
       " ('to', 9),\n",
       " ('extract', 1),\n",
       " ('critical', 2),\n",
       " ('features', 4),\n",
       " ('for', 2),\n",
       " ('improving', 1),\n",
       " ('the', 5),\n",
       " ('performance', 1),\n",
       " ('of', 5),\n",
       " ('stock', 5),\n",
       " ('trading', 3),\n",
       " ('model', 3),\n",
       " ('The', 6),\n",
       " ('feature', 4),\n",
       " ('extraction', 3),\n",
       " ('method', 5),\n",
       " ('is', 5),\n",
       " ('one', 1),\n",
       " ('techniques', 1),\n",
       " ('solve', 1),\n",
       " ('dimensionality', 1),\n",
       " ('reduction', 1),\n",
       " ('problems', 2),\n",
       " ('approach', 1),\n",
       " ('which', 2),\n",
       " ('has', 3),\n",
       " ('been', 2),\n",
       " ('applied', 2),\n",
       " ('data', 2),\n",
       " ('transformation', 1),\n",
       " ('from', 2),\n",
       " ('known', 2),\n",
       " ('variables', 3),\n",
       " ('capture', 1),\n",
       " ('information', 2),\n",
       " ('map-', 1),\n",
       " ('ping', 1),\n",
       " ('tool', 1),\n",
       " ('that', 4),\n",
       " ('characteristics', 1),\n",
       " ('both', 2),\n",
       " ('and', 5),\n",
       " ('non-linear', 1),\n",
       " ('mapping', 2),\n",
       " ('selection', 1),\n",
       " ('another', 1),\n",
       " ('DRP', 2),\n",
       " ('technique', 1),\n",
       " ('selects', 1),\n",
       " ('only', 1),\n",
       " ('small', 1),\n",
       " ('set', 1),\n",
       " ('but', 1),\n",
       " ('these', 1),\n",
       " ('still', 1),\n",
       " ('indicate', 1),\n",
       " ('possible', 1),\n",
       " ('collinearity', 1),\n",
       " ('fail', 1),\n",
       " ('reflect', 1),\n",
       " ('clear', 1),\n",
       " ('However', 1),\n",
       " ('most', 1),\n",
       " ('methods', 3),\n",
       " ('use', 2),\n",
       " ('variable', 1),\n",
       " ('application', 2),\n",
       " ('eliminate', 1),\n",
       " ('noisy', 1),\n",
       " ('collinear', 1),\n",
       " ('In', 1),\n",
       " ('this', 1),\n",
       " ('research', 1),\n",
       " ('we', 1),\n",
       " ('kernel-PCA', 2),\n",
       " ('in', 2),\n",
       " ('transform', 1),\n",
       " ('technical', 1),\n",
       " ('indices', 1),\n",
       " ('allows', 1),\n",
       " ('smaller', 1),\n",
       " ('dimension', 1),\n",
       " ('be', 2),\n",
       " ('formed', 1),\n",
       " ('various', 1),\n",
       " ('stocks', 1),\n",
       " ('sliding', 1),\n",
       " ('window', 1),\n",
       " ('testing', 2),\n",
       " ('using', 1),\n",
       " ('half-year', 1),\n",
       " ('1-year', 1),\n",
       " ('strategies', 1),\n",
       " ('experimental', 1),\n",
       " ('results', 1),\n",
       " ('show', 1),\n",
       " ('proposed', 1),\n",
       " ('generates', 1),\n",
       " ('more', 1),\n",
       " ('profits', 1),\n",
       " ('than', 1),\n",
       " ('other', 1),\n",
       " ('on', 1),\n",
       " ('America', 1),\n",
       " ('market', 1),\n",
       " ('very', 1),\n",
       " ('practical', 1),\n",
       " ('real-world', 1),\n",
       " ('it', 1),\n",
       " ('can', 1),\n",
       " ('implemented', 1),\n",
       " ('real-time', 1),\n",
       " ('environment', 1)]"
      ]
     },
     "execution_count": 44,
     "metadata": {},
     "output_type": "execute_result"
    }
   ],
   "source": [
    "map_reduce(documents, wc_mapper, wc_reducer)"
   ]
  },
  {
   "cell_type": "code",
   "execution_count": null,
   "metadata": {},
   "outputs": [],
   "source": []
  }
 ],
 "metadata": {
  "kernelspec": {
   "display_name": "Python 3",
   "language": "python",
   "name": "python3"
  },
  "language_info": {
   "codemirror_mode": {
    "name": "ipython",
    "version": 3
   },
   "file_extension": ".py",
   "mimetype": "text/x-python",
   "name": "python",
   "nbconvert_exporter": "python",
   "pygments_lexer": "ipython3",
   "version": "3.6.3"
  }
 },
 "nbformat": 4,
 "nbformat_minor": 2
}
