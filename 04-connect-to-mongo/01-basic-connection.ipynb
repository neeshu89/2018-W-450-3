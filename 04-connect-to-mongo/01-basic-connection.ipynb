{
 "cells": [
  {
   "cell_type": "code",
   "execution_count": 1,
   "metadata": {},
   "outputs": [
    {
     "name": "stdout",
     "output_type": "stream",
     "text": [
      "Requirement already satisfied: pymongo in /opt/conda/lib/python3.6/site-packages\r\n"
     ]
    }
   ],
   "source": [
    "!pip install pymongo"
   ]
  },
  {
   "cell_type": "code",
   "execution_count": 2,
   "metadata": {},
   "outputs": [],
   "source": [
    "from pymongo import MongoClient"
   ]
  },
  {
   "cell_type": "code",
   "execution_count": 3,
   "metadata": {},
   "outputs": [],
   "source": [
    "mongo_client = MongoClient('34.209.155.42', 27016)\n",
    "database_reference = mongo_client.twitter\n",
    "collection_reference = database_reference.tweets"
   ]
  },
  {
   "cell_type": "code",
   "execution_count": 4,
   "metadata": {},
   "outputs": [
    {
     "data": {
      "text/plain": [
       "1973289"
      ]
     },
     "execution_count": 4,
     "metadata": {},
     "output_type": "execute_result"
    }
   ],
   "source": [
    "collection_reference.count()"
   ]
  },
  {
   "cell_type": "code",
   "execution_count": 5,
   "metadata": {},
   "outputs": [],
   "source": [
    "cursor = collection_reference.find()"
   ]
  },
  {
   "cell_type": "code",
   "execution_count": 6,
   "metadata": {},
   "outputs": [
    {
     "data": {
      "text/plain": [
       "{'_id': ObjectId('5a4d5678bfe2f9001587a12e'),\n",
       " 'contributors': None,\n",
       " 'coordinates': None,\n",
       " 'created_at': 'Wed Jan 03 22:16:02 +0000 2018',\n",
       " 'entities': {'hashtags': [], 'symbols': [], 'urls': [], 'user_mentions': []},\n",
       " 'favorite_count': 0,\n",
       " 'favorited': False,\n",
       " 'filter_level': 'low',\n",
       " 'geo': None,\n",
       " 'id': 948679371505655808,\n",
       " 'id_str': '948679371505655808',\n",
       " 'in_reply_to_screen_name': None,\n",
       " 'in_reply_to_status_id': None,\n",
       " 'in_reply_to_status_id_str': None,\n",
       " 'in_reply_to_user_id': None,\n",
       " 'in_reply_to_user_id_str': None,\n",
       " 'is_quote_status': False,\n",
       " 'lang': 'tl',\n",
       " 'place': {'attributes': {},\n",
       "  'bounding_box': {'coordinates': [[[-118.668404, 33.704538],\n",
       "     [-118.668404, 34.337041],\n",
       "     [-118.155409, 34.337041],\n",
       "     [-118.155409, 33.704538]]],\n",
       "   'type': 'Polygon'},\n",
       "  'country': 'United States',\n",
       "  'country_code': 'US',\n",
       "  'full_name': 'Los Angeles, CA',\n",
       "  'id': '3b77caf94bfc81fe',\n",
       "  'name': 'Los Angeles',\n",
       "  'place_type': 'city',\n",
       "  'url': 'https://api.twitter.com/1.1/geo/id/3b77caf94bfc81fe.json'},\n",
       " 'quote_count': 0,\n",
       " 'reply_count': 0,\n",
       " 'retweet_count': 0,\n",
       " 'retweeted': False,\n",
       " 'source': '<a href=\"http://twitter.com/download/iphone\" rel=\"nofollow\">Twitter for iPhone</a>',\n",
       " 'text': 'Putangina ang boring na ng buhay ko dito jusko',\n",
       " 'timestamp_ms': '1515017762434',\n",
       " 'truncated': False,\n",
       " 'user': {'contributors_enabled': False,\n",
       "  'created_at': 'Fri Mar 02 13:22:22 +0000 2012',\n",
       "  'default_profile': False,\n",
       "  'default_profile_image': False,\n",
       "  'description': None,\n",
       "  'favourites_count': 4830,\n",
       "  'follow_request_sent': None,\n",
       "  'followers_count': 773,\n",
       "  'following': None,\n",
       "  'friends_count': 100,\n",
       "  'geo_enabled': True,\n",
       "  'id': 511923569,\n",
       "  'id_str': '511923569',\n",
       "  'is_translator': False,\n",
       "  'lang': 'en',\n",
       "  'listed_count': 1,\n",
       "  'location': 'Los Angeles, CA',\n",
       "  'name': 'Juan Miguel',\n",
       "  'notifications': None,\n",
       "  'profile_background_color': '000000',\n",
       "  'profile_background_image_url': 'http://pbs.twimg.com/profile_background_images/531342961343086592/4a7yCk4x.jpeg',\n",
       "  'profile_background_image_url_https': 'https://pbs.twimg.com/profile_background_images/531342961343086592/4a7yCk4x.jpeg',\n",
       "  'profile_background_tile': False,\n",
       "  'profile_banner_url': 'https://pbs.twimg.com/profile_banners/511923569/1514535792',\n",
       "  'profile_image_url': 'http://pbs.twimg.com/profile_images/946844999412473856/07sICdIq_normal.jpg',\n",
       "  'profile_image_url_https': 'https://pbs.twimg.com/profile_images/946844999412473856/07sICdIq_normal.jpg',\n",
       "  'profile_link_color': '000000',\n",
       "  'profile_sidebar_border_color': 'FFFFFF',\n",
       "  'profile_sidebar_fill_color': 'EFEFEF',\n",
       "  'profile_text_color': '333333',\n",
       "  'profile_use_background_image': True,\n",
       "  'protected': False,\n",
       "  'screen_name': 'euanbedural_',\n",
       "  'statuses_count': 5142,\n",
       "  'time_zone': 'Hong Kong',\n",
       "  'translator_type': 'none',\n",
       "  'url': None,\n",
       "  'utc_offset': 28800,\n",
       "  'verified': False}}"
      ]
     },
     "execution_count": 6,
     "metadata": {},
     "output_type": "execute_result"
    }
   ],
   "source": [
    "next(cursor)"
   ]
  },
  {
   "cell_type": "code",
   "execution_count": 7,
   "metadata": {},
   "outputs": [
    {
     "data": {
      "text/plain": [
       "{'_id': ObjectId('5a4d56d9bfe2f9001587a12f'),\n",
       " 'contributors': None,\n",
       " 'coordinates': None,\n",
       " 'created_at': 'Wed Jan 03 22:16:04 +0000 2018',\n",
       " 'display_text_range': [14, 25],\n",
       " 'entities': {'hashtags': [],\n",
       "  'symbols': [],\n",
       "  'urls': [],\n",
       "  'user_mentions': [{'id': 828346564062044160,\n",
       "    'id_str': '828346564062044160',\n",
       "    'indices': [0, 13],\n",
       "    'name': 'alicia 🐻',\n",
       "    'screen_name': 'aliciabearrr'}]},\n",
       " 'favorite_count': 0,\n",
       " 'favorited': False,\n",
       " 'filter_level': 'low',\n",
       " 'geo': None,\n",
       " 'id': 948679379248283648,\n",
       " 'id_str': '948679379248283648',\n",
       " 'in_reply_to_screen_name': 'aliciabearrr',\n",
       " 'in_reply_to_status_id': 948634097961676800,\n",
       " 'in_reply_to_status_id_str': '948634097961676800',\n",
       " 'in_reply_to_user_id': 828346564062044160,\n",
       " 'in_reply_to_user_id_str': '828346564062044160',\n",
       " 'is_quote_status': False,\n",
       " 'lang': 'en',\n",
       " 'place': {'attributes': {},\n",
       "  'bounding_box': {'coordinates': [[[-124.482003, 32.528832],\n",
       "     [-124.482003, 42.009519],\n",
       "     [-114.131212, 42.009519],\n",
       "     [-114.131212, 32.528832]]],\n",
       "   'type': 'Polygon'},\n",
       "  'country': 'United States',\n",
       "  'country_code': 'US',\n",
       "  'full_name': 'California, USA',\n",
       "  'id': 'fbd6d2f5a4e4a15e',\n",
       "  'name': 'California',\n",
       "  'place_type': 'admin',\n",
       "  'url': 'https://api.twitter.com/1.1/geo/id/fbd6d2f5a4e4a15e.json'},\n",
       " 'quote_count': 0,\n",
       " 'reply_count': 0,\n",
       " 'retweet_count': 0,\n",
       " 'retweeted': False,\n",
       " 'source': '<a href=\"http://twitter.com/download/iphone\" rel=\"nofollow\">Twitter for iPhone</a>',\n",
       " 'text': '@aliciabearrr Thank you 😋',\n",
       " 'timestamp_ms': '1515017764280',\n",
       " 'truncated': False,\n",
       " 'user': {'contributors_enabled': False,\n",
       "  'created_at': 'Wed Sep 30 22:49:56 +0000 2015',\n",
       "  'default_profile': True,\n",
       "  'default_profile_image': False,\n",
       "  'description': 'momma to Leah 👩\\u200d👧wife to Fernando 💍',\n",
       "  'favourites_count': 2115,\n",
       "  'follow_request_sent': None,\n",
       "  'followers_count': 308,\n",
       "  'following': None,\n",
       "  'friends_count': 250,\n",
       "  'geo_enabled': True,\n",
       "  'id': 3741582613,\n",
       "  'id_str': '3741582613',\n",
       "  'is_translator': False,\n",
       "  'lang': 'en',\n",
       "  'listed_count': 0,\n",
       "  'location': 'California',\n",
       "  'name': 'Maria Belen Serna',\n",
       "  'notifications': None,\n",
       "  'profile_background_color': 'C0DEED',\n",
       "  'profile_background_image_url': 'http://abs.twimg.com/images/themes/theme1/bg.png',\n",
       "  'profile_background_image_url_https': 'https://abs.twimg.com/images/themes/theme1/bg.png',\n",
       "  'profile_background_tile': False,\n",
       "  'profile_banner_url': 'https://pbs.twimg.com/profile_banners/3741582613/1514716470',\n",
       "  'profile_image_url': 'http://pbs.twimg.com/profile_images/947415653035646977/bH3yLoc2_normal.jpg',\n",
       "  'profile_image_url_https': 'https://pbs.twimg.com/profile_images/947415653035646977/bH3yLoc2_normal.jpg',\n",
       "  'profile_link_color': '1DA1F2',\n",
       "  'profile_sidebar_border_color': 'C0DEED',\n",
       "  'profile_sidebar_fill_color': 'DDEEF6',\n",
       "  'profile_text_color': '333333',\n",
       "  'profile_use_background_image': True,\n",
       "  'protected': False,\n",
       "  'screen_name': '_ohhbelen',\n",
       "  'statuses_count': 8926,\n",
       "  'time_zone': None,\n",
       "  'translator_type': 'none',\n",
       "  'url': None,\n",
       "  'utc_offset': None,\n",
       "  'verified': False}}"
      ]
     },
     "execution_count": 7,
     "metadata": {},
     "output_type": "execute_result"
    }
   ],
   "source": [
    "next(cursor)"
   ]
  },
  {
   "cell_type": "code",
   "execution_count": 8,
   "metadata": {},
   "outputs": [
    {
     "data": {
      "text/plain": [
       "'It’s okay to invest in YOUrself. \\nI beat myself up whenever i don’t cross out everything on my… https://t.co/9kQpNWp4F9'"
      ]
     },
     "execution_count": 8,
     "metadata": {},
     "output_type": "execute_result"
    }
   ],
   "source": [
    "next(cursor)['text']"
   ]
  },
  {
   "cell_type": "code",
   "execution_count": 9,
   "metadata": {},
   "outputs": [
    {
     "data": {
      "text/plain": [
       "dict"
      ]
     },
     "execution_count": 9,
     "metadata": {},
     "output_type": "execute_result"
    }
   ],
   "source": [
    "type(next(cursor))"
   ]
  },
  {
   "cell_type": "code",
   "execution_count": 10,
   "metadata": {},
   "outputs": [
    {
     "data": {
      "text/plain": [
       "'Reading “Rest In Power” by Trayvon Martins parents.....can’t stop tearing up imagining what it would be like to go… https://t.co/PX1VJnJv4H'"
      ]
     },
     "execution_count": 10,
     "metadata": {},
     "output_type": "execute_result"
    }
   ],
   "source": [
    "next(cursor)['text']"
   ]
  },
  {
   "cell_type": "code",
   "execution_count": null,
   "metadata": {},
   "outputs": [],
   "source": []
  }
 ],
 "metadata": {
  "kernelspec": {
   "display_name": "Python 3",
   "language": "python",
   "name": "python3"
  },
  "language_info": {
   "codemirror_mode": {
    "name": "ipython",
    "version": 3
   },
   "file_extension": ".py",
   "mimetype": "text/x-python",
   "name": "python",
   "nbconvert_exporter": "python",
   "pygments_lexer": "ipython3",
   "version": "3.6.3"
  }
 },
 "nbformat": 4,
 "nbformat_minor": 2
}
